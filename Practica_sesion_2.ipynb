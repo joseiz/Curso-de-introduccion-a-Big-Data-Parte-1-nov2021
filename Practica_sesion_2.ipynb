{
  "nbformat": 4,
  "nbformat_minor": 0,
  "metadata": {
    "colab": {
      "name": "Untitled1.ipynb",
      "provenance": [],
      "authorship_tag": "ABX9TyO7M2RhxBxtgFMqOhJHPCsg",
      "include_colab_link": true
    },
    "kernelspec": {
      "name": "python3",
      "display_name": "Python 3"
    },
    "language_info": {
      "name": "python"
    }
  },
  "cells": [
    {
      "cell_type": "markdown",
      "metadata": {
        "id": "view-in-github",
        "colab_type": "text"
      },
      "source": [
        "<a href=\"https://colab.research.google.com/github/joseiz/Curso-de-introduccion-a-Big-Data-Parte-1-nov2021/blob/main/Practica_sesion_2.ipynb\" target=\"_parent\"><img src=\"https://colab.research.google.com/assets/colab-badge.svg\" alt=\"Open In Colab\"/></a>"
      ]
    },
    {
      "cell_type": "markdown",
      "metadata": {
        "id": "wUnfnJ5oPt8y"
      },
      "source": [
        "\n",
        "“Esto es una celda de texto”\n",
        "\n",
        "    7) Inserte una celda de código que muestre por pantalla el mensaje “¡Hola Mundo!” usando print().\n",
        "\n",
        "\n",
        "\n",
        "\n",
        "\n",
        "\n"
      ]
    },
    {
      "cell_type": "code",
      "metadata": {
        "id": "wGXl20bgP9B4"
      },
      "source": [
        "print(\"Hola Mundo!\")"
      ],
      "execution_count": null,
      "outputs": []
    },
    {
      "cell_type": "markdown",
      "metadata": {
        "id": "czdXr65DQBDb"
      },
      "source": [
        "8) Inserte una celda de código que realice la suma 2+2"
      ]
    },
    {
      "cell_type": "code",
      "metadata": {
        "colab": {
          "base_uri": "https://localhost:8080/"
        },
        "id": "GhcrTGlDQGdX",
        "outputId": "f6e7f169-9004-4ff8-c1ac-e3874c618e91"
      },
      "source": [
        "2 + 2"
      ],
      "execution_count": 1,
      "outputs": [
        {
          "output_type": "execute_result",
          "data": {
            "text/plain": [
              "4"
            ]
          },
          "metadata": {},
          "execution_count": 1
        }
      ]
    },
    {
      "cell_type": "markdown",
      "metadata": {
        "id": "Sw0mYPt3QaVX"
      },
      "source": [
        "    9) Añada un comentario a la celda de código con el siguiente texto:"
      ]
    },
    {
      "cell_type": "code",
      "metadata": {
        "id": "LjBntHDVQewS"
      },
      "source": [
        "#Esto es un comentario en una celda de código"
      ],
      "execution_count": 2,
      "outputs": []
    },
    {
      "cell_type": "markdown",
      "metadata": {
        "id": "u9tlcpl2QsHv"
      },
      "source": [
        "10) Cree una variable “a” que sea igual a la resta 35-8"
      ]
    },
    {
      "cell_type": "code",
      "metadata": {
        "id": "1UlKoKh4Qwp6"
      },
      "source": [
        "a = 35 - 8"
      ],
      "execution_count": 3,
      "outputs": []
    },
    {
      "cell_type": "markdown",
      "metadata": {
        "id": "PIRK3966Qz8l"
      },
      "source": [
        "11) Muestre el valor de la variable “a”"
      ]
    },
    {
      "cell_type": "code",
      "metadata": {
        "colab": {
          "base_uri": "https://localhost:8080/"
        },
        "id": "HZkoXuaeQ6nc",
        "outputId": "20ca0c74-1830-4437-db32-e17d9d2d472b"
      },
      "source": [
        "a"
      ],
      "execution_count": 4,
      "outputs": [
        {
          "output_type": "execute_result",
          "data": {
            "text/plain": [
              "27"
            ]
          },
          "metadata": {},
          "execution_count": 4
        }
      ]
    },
    {
      "cell_type": "markdown",
      "metadata": {
        "id": "fmV8pq1nQ9Uz"
      },
      "source": [
        "12) Muestre la ayuda del comando “len” con help()"
      ]
    },
    {
      "cell_type": "code",
      "metadata": {
        "colab": {
          "base_uri": "https://localhost:8080/"
        },
        "id": "JDUors9IRFf-",
        "outputId": "2999a71f-28fd-4a6b-ed59-e82900613127"
      },
      "source": [
        "help(len)"
      ],
      "execution_count": 5,
      "outputs": [
        {
          "output_type": "stream",
          "name": "stdout",
          "text": [
            "Help on built-in function len in module builtins:\n",
            "\n",
            "len(obj, /)\n",
            "    Return the number of items in a container.\n",
            "\n"
          ]
        }
      ]
    },
    {
      "cell_type": "markdown",
      "metadata": {
        "id": "RmAKXkhcRJO1"
      },
      "source": [
        "13) Muestre la ayuda del comando “len” con “?”"
      ]
    },
    {
      "cell_type": "code",
      "metadata": {
        "id": "T9a54QSYRMVO"
      },
      "source": [
        "len?"
      ],
      "execution_count": 6,
      "outputs": []
    },
    {
      "cell_type": "markdown",
      "metadata": {
        "id": "LMokc30qRPar"
      },
      "source": [
        "14) Muestre la longitud de la palabra “aprendizaje” usando len()"
      ]
    },
    {
      "cell_type": "code",
      "metadata": {
        "colab": {
          "base_uri": "https://localhost:8080/"
        },
        "id": "j8v_A3AKRTDO",
        "outputId": "99d2ba22-3066-4e9b-d5f9-c33e03960460"
      },
      "source": [
        "len(\"aprendizaje\")"
      ],
      "execution_count": 7,
      "outputs": [
        {
          "output_type": "execute_result",
          "data": {
            "text/plain": [
              "11"
            ]
          },
          "metadata": {},
          "execution_count": 7
        }
      ]
    },
    {
      "cell_type": "markdown",
      "metadata": {
        "id": "uDNQxXusRVNC"
      },
      "source": [
        "15) Guarde el cuaderno en el repositorio “Notebooks Curso Big Data” de Github"
      ]
    },
    {
      "cell_type": "code",
      "metadata": {
        "id": "GNPXZaSmRn5X"
      },
      "source": [
        ""
      ],
      "execution_count": null,
      "outputs": []
    }
  ]
}